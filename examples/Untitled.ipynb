{
 "cells": [
  {
   "cell_type": "code",
   "execution_count": 1,
   "metadata": {},
   "outputs": [],
   "source": [
    "%LOAD chinook.db"
   ]
  },
  {
   "cell_type": "code",
   "execution_count": 2,
   "metadata": {},
   "outputs": [
    {
     "data": {
      "text/html": [
       "<table>\n",
       "<tr>\n",
       "<th>EmployeeId</th>\n",
       "<th>ReportsTo</th>\n",
       "</tr>\n",
       "<tr>\n",
       "<td>1</td>\n",
       "<td></td>\n",
       "</tr>\n",
       "<tr>\n",
       "<td>2</td>\n",
       "<td>1</td>\n",
       "</tr>\n",
       "<tr>\n",
       "<td>6</td>\n",
       "<td>1</td>\n",
       "</tr>\n",
       "<tr>\n",
       "<td>3</td>\n",
       "<td>2</td>\n",
       "</tr>\n",
       "<tr>\n",
       "<td>4</td>\n",
       "<td>2</td>\n",
       "</tr>\n",
       "<tr>\n",
       "<td>5</td>\n",
       "<td>2</td>\n",
       "</tr>\n",
       "<tr>\n",
       "<td>7</td>\n",
       "<td>6</td>\n",
       "</tr>\n",
       "<tr>\n",
       "<td>8</td>\n",
       "<td>6</td>\n",
       "</tr>\n",
       "</table>"
      ],
      "text/plain": [
       "+------------+-----------+\n",
       "| EmployeeId | ReportsTo |\n",
       "+------------+-----------+\n",
       "| 1          |           |\n",
       "+------------+-----------+\n",
       "| 2          | 1         |\n",
       "+------------+-----------+\n",
       "| 6          | 1         |\n",
       "+------------+-----------+\n",
       "| 3          | 2         |\n",
       "+------------+-----------+\n",
       "| 4          | 2         |\n",
       "+------------+-----------+\n",
       "| 5          | 2         |\n",
       "+------------+-----------+\n",
       "| 7          | 6         |\n",
       "+------------+-----------+\n",
       "| 8          | 6         |\n",
       "+------------+-----------+"
      ]
     },
     "execution_count": 2,
     "metadata": {},
     "output_type": "execute_result"
    },
    {
     "data": {
      "application/vnd.vegalite.v3+json": {
       "$schema": "https://vega.github.io/schema/vega-lite/v4.json",
       "config": {
        "axis": {
         "grid": true
        }
       },
       "data": {
        "values": [
         {
          "EmployeeId": "name",
          "ReportsTo": "name"
         },
         {
          "EmployeeId": "1",
          "ReportsTo": ""
         },
         {
          "EmployeeId": "2",
          "ReportsTo": "1"
         },
         {
          "EmployeeId": "6",
          "ReportsTo": "1"
         },
         {
          "EmployeeId": "3",
          "ReportsTo": "2"
         },
         {
          "EmployeeId": "4",
          "ReportsTo": "2"
         },
         {
          "EmployeeId": "5",
          "ReportsTo": "2"
         },
         {
          "EmployeeId": "7",
          "ReportsTo": "6"
         },
         {
          "EmployeeId": "8",
          "ReportsTo": "6"
         }
        ]
       },
       "encoding": {
        "x": {
         "axis": {
          "title": []
         },
         "field": "EmployeeId",
         "type": "quantitative"
        },
        "y": {
         "field": "ReportsTo",
         "type": "quantitative"
        }
       },
       "height": 200,
       "mark": {
        "type": "point"
       },
       "width": 100
      },
      "image/png": "[encoded data removed]"
     },
     "execution_count": 2,
     "metadata": {},
     "output_type": "execute_result"
    }
   ],
   "source": [
    "%XVEGA_PLOT X_FIELD EmployeeId Y_FIELD ReportsTo MARK point WIDTH 100 HEIGHT 200 <> SELECT EmployeeId, ReportsTo FROM employees"
   ]
  },
  {
   "cell_type": "code",
   "execution_count": 11,
   "metadata": {},
   "outputs": [
    {
     "data": {
      "text/html": [
       "<table>\n",
       "<tr>\n",
       "<th>EmployeeId</th>\n",
       "<th>ReportsTo</th>\n",
       "</tr>\n",
       "<tr>\n",
       "<td>1</td>\n",
       "<td></td>\n",
       "</tr>\n",
       "<tr>\n",
       "<td>2</td>\n",
       "<td>1</td>\n",
       "</tr>\n",
       "<tr>\n",
       "<td>6</td>\n",
       "<td>1</td>\n",
       "</tr>\n",
       "<tr>\n",
       "<td>3</td>\n",
       "<td>2</td>\n",
       "</tr>\n",
       "<tr>\n",
       "<td>4</td>\n",
       "<td>2</td>\n",
       "</tr>\n",
       "<tr>\n",
       "<td>5</td>\n",
       "<td>2</td>\n",
       "</tr>\n",
       "<tr>\n",
       "<td>7</td>\n",
       "<td>6</td>\n",
       "</tr>\n",
       "<tr>\n",
       "<td>8</td>\n",
       "<td>6</td>\n",
       "</tr>\n",
       "</table>"
      ],
      "text/plain": [
       "+------------+-----------+\n",
       "| EmployeeId | ReportsTo |\n",
       "+------------+-----------+\n",
       "| 1          |           |\n",
       "+------------+-----------+\n",
       "| 2          | 1         |\n",
       "+------------+-----------+\n",
       "| 6          | 1         |\n",
       "+------------+-----------+\n",
       "| 3          | 2         |\n",
       "+------------+-----------+\n",
       "| 4          | 2         |\n",
       "+------------+-----------+\n",
       "| 5          | 2         |\n",
       "+------------+-----------+\n",
       "| 7          | 6         |\n",
       "+------------+-----------+\n",
       "| 8          | 6         |\n",
       "+------------+-----------+"
      ]
     },
     "execution_count": 11,
     "metadata": {},
     "output_type": "execute_result"
    },
    {
     "data": {
      "application/vnd.vegalite.v3+json": {
       "$schema": "https://vega.github.io/schema/vega-lite/v4.json",
       "config": {
        "axis": {
         "grid": true
        }
       },
       "data": {
        "values": [
         {
          "EmployeeId": "name",
          "ReportsTo": "name"
         },
         {
          "EmployeeId": "1",
          "ReportsTo": ""
         },
         {
          "EmployeeId": "2",
          "ReportsTo": "1"
         },
         {
          "EmployeeId": "6",
          "ReportsTo": "1"
         },
         {
          "EmployeeId": "3",
          "ReportsTo": "2"
         },
         {
          "EmployeeId": "4",
          "ReportsTo": "2"
         },
         {
          "EmployeeId": "5",
          "ReportsTo": "2"
         },
         {
          "EmployeeId": "7",
          "ReportsTo": "6"
         },
         {
          "EmployeeId": "8",
          "ReportsTo": "6"
         }
        ]
       },
       "encoding": {
        "x": {
         "axis": {
          "title": []
         },
         "field": "EmployeeId",
         "type": "quantitative"
        },
        "y": {
         "field": "ReportsTo",
         "type": "quantitative"
        }
       },
       "height": 200,
       "mark": {
        "color": "red",
        "type": "bar"
       },
       "width": 200
      },
      "image/png": "[encoded data removed]"
     },
     "execution_count": 11,
     "metadata": {},
     "output_type": "execute_result"
    }
   ],
   "source": [
    "%XVEGA_PLOT X_FIELD EmployeeId Y_FIELD ReportsTo MARK bar COLOR red WIDTH 200 HEIGHT 200 <> SELECT EmployeeId, ReportsTo FROM employees"
   ]
  },
  {
   "cell_type": "code",
   "execution_count": null,
   "metadata": {},
   "outputs": [],
   "source": []
  }
 ],
 "metadata": {
  "kernelspec": {
   "display_name": "xsqlite",
   "language": "sqlite",
   "name": "xsqlite"
  },
  "language_info": {
   "codemirror_mode": "sql",
   "file_extension": "",
   "mimetype": "",
   "name": "sqlite3",
   "version": "3.33.0"
  }
 },
 "nbformat": 4,
 "nbformat_minor": 4
}
