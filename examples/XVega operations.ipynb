{
 "cells": [
  {
   "cell_type": "code",
   "execution_count": 2,
   "metadata": {},
   "outputs": [],
   "source": [
    "%LOAD chinook.db"
   ]
  },
  {
   "cell_type": "code",
   "execution_count": 25,
   "metadata": {},
   "outputs": [
    {
     "data": {
      "text/html": [
       "<table>\n",
       "<tr>\n",
       "<th>EmployeeId</th>\n",
       "<th>ReportsTo</th>\n",
       "</tr>\n",
       "<tr>\n",
       "<td>1</td>\n",
       "<td></td>\n",
       "</tr>\n",
       "<tr>\n",
       "<td>2</td>\n",
       "<td>1</td>\n",
       "</tr>\n",
       "<tr>\n",
       "<td>6</td>\n",
       "<td>1</td>\n",
       "</tr>\n",
       "<tr>\n",
       "<td>3</td>\n",
       "<td>2</td>\n",
       "</tr>\n",
       "<tr>\n",
       "<td>4</td>\n",
       "<td>2</td>\n",
       "</tr>\n",
       "<tr>\n",
       "<td>5</td>\n",
       "<td>2</td>\n",
       "</tr>\n",
       "<tr>\n",
       "<td>7</td>\n",
       "<td>6</td>\n",
       "</tr>\n",
       "<tr>\n",
       "<td>8</td>\n",
       "<td>6</td>\n",
       "</tr>\n",
       "</table>"
      ],
      "text/plain": [
       "+------------+-----------+\n",
       "| EmployeeId | ReportsTo |\n",
       "+------------+-----------+\n",
       "| 1          |           |\n",
       "+------------+-----------+\n",
       "| 2          | 1         |\n",
       "+------------+-----------+\n",
       "| 6          | 1         |\n",
       "+------------+-----------+\n",
       "| 3          | 2         |\n",
       "+------------+-----------+\n",
       "| 4          | 2         |\n",
       "+------------+-----------+\n",
       "| 5          | 2         |\n",
       "+------------+-----------+\n",
       "| 7          | 6         |\n",
       "+------------+-----------+\n",
       "| 8          | 6         |\n",
       "+------------+-----------+"
      ]
     },
     "execution_count": 25,
     "metadata": {},
     "output_type": "execute_result"
    },
    {
     "data": {
      "application/vnd.vegalite.v3+json": {
       "$schema": "https://vega.github.io/schema/vega-lite/v4.json",
       "config": {
        "axis": {
         "grid": true
        }
       },
       "data": {
        "values": [
         {
          "EmployeeId": "name",
          "ReportsTo": "name"
         },
         {
          "EmployeeId": "1",
          "ReportsTo": ""
         },
         {
          "EmployeeId": "2",
          "ReportsTo": "1"
         },
         {
          "EmployeeId": "6",
          "ReportsTo": "1"
         },
         {
          "EmployeeId": "3",
          "ReportsTo": "2"
         },
         {
          "EmployeeId": "4",
          "ReportsTo": "2"
         },
         {
          "EmployeeId": "5",
          "ReportsTo": "2"
         },
         {
          "EmployeeId": "7",
          "ReportsTo": "6"
         },
         {
          "EmployeeId": "8",
          "ReportsTo": "6"
         }
        ]
       },
       "encoding": {
        "x": {
         "axis": {
          "title": []
         },
         "field": "EmployeeId",
         "type": "quantitative"
        },
        "y": {
         "field": "ReportsTo",
         "type": "quantitative"
        }
       },
       "height": 200,
       "mark": {
        "type": "square"
       },
       "width": 100
      },
      "image/png": "[encoded data removed]"
     },
     "execution_count": 25,
     "metadata": {},
     "output_type": "execute_result"
    }
   ],
   "source": [
    "%XVEGA_PLOT X_FIELD EmployeeId Y_FIELD ReportsTo MARK square WIDTH 100 HEIGHT 200 <> SELECT EmployeeId, ReportsTo FROM employees"
   ]
  },
  {
   "cell_type": "code",
   "execution_count": 11,
   "metadata": {},
   "outputs": [
    {
     "data": {
      "text/html": [
       "<table>\n",
       "<tr>\n",
       "<th>EmployeeId</th>\n",
       "<th>ReportsTo</th>\n",
       "</tr>\n",
       "<tr>\n",
       "<td>1</td>\n",
       "<td></td>\n",
       "</tr>\n",
       "<tr>\n",
       "<td>2</td>\n",
       "<td>1</td>\n",
       "</tr>\n",
       "<tr>\n",
       "<td>6</td>\n",
       "<td>1</td>\n",
       "</tr>\n",
       "<tr>\n",
       "<td>3</td>\n",
       "<td>2</td>\n",
       "</tr>\n",
       "<tr>\n",
       "<td>4</td>\n",
       "<td>2</td>\n",
       "</tr>\n",
       "<tr>\n",
       "<td>5</td>\n",
       "<td>2</td>\n",
       "</tr>\n",
       "<tr>\n",
       "<td>7</td>\n",
       "<td>6</td>\n",
       "</tr>\n",
       "<tr>\n",
       "<td>8</td>\n",
       "<td>6</td>\n",
       "</tr>\n",
       "</table>"
      ],
      "text/plain": [
       "+------------+-----------+\n",
       "| EmployeeId | ReportsTo |\n",
       "+------------+-----------+\n",
       "| 1          |           |\n",
       "+------------+-----------+\n",
       "| 2          | 1         |\n",
       "+------------+-----------+\n",
       "| 6          | 1         |\n",
       "+------------+-----------+\n",
       "| 3          | 2         |\n",
       "+------------+-----------+\n",
       "| 4          | 2         |\n",
       "+------------+-----------+\n",
       "| 5          | 2         |\n",
       "+------------+-----------+\n",
       "| 7          | 6         |\n",
       "+------------+-----------+\n",
       "| 8          | 6         |\n",
       "+------------+-----------+"
      ]
     },
     "execution_count": 11,
     "metadata": {},
     "output_type": "execute_result"
    },
    {
     "data": {
      "application/vnd.vegalite.v3+json": {
       "$schema": "https://vega.github.io/schema/vega-lite/v4.json",
       "config": {
        "axis": {
         "grid": true
        }
       },
       "data": {
        "values": [
         {
          "EmployeeId": "name",
          "ReportsTo": "name"
         },
         {
          "EmployeeId": "1",
          "ReportsTo": ""
         },
         {
          "EmployeeId": "2",
          "ReportsTo": "1"
         },
         {
          "EmployeeId": "6",
          "ReportsTo": "1"
         },
         {
          "EmployeeId": "3",
          "ReportsTo": "2"
         },
         {
          "EmployeeId": "4",
          "ReportsTo": "2"
         },
         {
          "EmployeeId": "5",
          "ReportsTo": "2"
         },
         {
          "EmployeeId": "7",
          "ReportsTo": "6"
         },
         {
          "EmployeeId": "8",
          "ReportsTo": "6"
         }
        ]
       },
       "encoding": {
        "x": {
         "axis": {
          "title": []
         },
         "field": "EmployeeId",
         "type": "quantitative"
        },
        "y": {
         "field": "ReportsTo",
         "type": "quantitative"
        }
       },
       "height": 200,
       "mark": {
        "color": "red",
        "type": "bar"
       },
       "width": 200
      },
      "image/png": "[encoded data removed]"
     },
     "execution_count": 11,
     "metadata": {},
     "output_type": "execute_result"
    }
   ],
   "source": [
    "%XVEGA_PLOT X_FIELD EmployeeId Y_FIELD ReportsTo MARK bar COLOR red WIDTH 200 HEIGHT 200 <> SELECT EmployeeId, ReportsTo FROM employees"
   ]
  },
  {
   "cell_type": "code",
   "execution_count": 4,
   "metadata": {},
   "outputs": [
    {
     "data": {
      "text/html": [
       "<table>\n",
       "<tr>\n",
       "<th>EmployeeId</th>\n",
       "<th>ReportsTo</th>\n",
       "</tr>\n",
       "<tr>\n",
       "<td>1</td>\n",
       "<td></td>\n",
       "</tr>\n",
       "<tr>\n",
       "<td>2</td>\n",
       "<td>1</td>\n",
       "</tr>\n",
       "<tr>\n",
       "<td>6</td>\n",
       "<td>1</td>\n",
       "</tr>\n",
       "<tr>\n",
       "<td>3</td>\n",
       "<td>2</td>\n",
       "</tr>\n",
       "<tr>\n",
       "<td>4</td>\n",
       "<td>2</td>\n",
       "</tr>\n",
       "<tr>\n",
       "<td>5</td>\n",
       "<td>2</td>\n",
       "</tr>\n",
       "<tr>\n",
       "<td>7</td>\n",
       "<td>6</td>\n",
       "</tr>\n",
       "<tr>\n",
       "<td>8</td>\n",
       "<td>6</td>\n",
       "</tr>\n",
       "</table>"
      ],
      "text/plain": [
       "+------------+-----------+\n",
       "| EmployeeId | ReportsTo |\n",
       "+------------+-----------+\n",
       "| 1          |           |\n",
       "+------------+-----------+\n",
       "| 2          | 1         |\n",
       "+------------+-----------+\n",
       "| 6          | 1         |\n",
       "+------------+-----------+\n",
       "| 3          | 2         |\n",
       "+------------+-----------+\n",
       "| 4          | 2         |\n",
       "+------------+-----------+\n",
       "| 5          | 2         |\n",
       "+------------+-----------+\n",
       "| 7          | 6         |\n",
       "+------------+-----------+\n",
       "| 8          | 6         |\n",
       "+------------+-----------+"
      ]
     },
     "execution_count": 4,
     "metadata": {},
     "output_type": "execute_result"
    },
    {
     "data": {
      "application/vnd.vegalite.v3+json": {
       "$schema": "https://vega.github.io/schema/vega-lite/v4.json",
       "config": {
        "axis": {
         "grid": true
        }
       },
       "data": {
        "values": [
         {
          "EmployeeId": "name",
          "ReportsTo": "name"
         },
         {
          "EmployeeId": "1",
          "ReportsTo": ""
         },
         {
          "EmployeeId": "2",
          "ReportsTo": "1"
         },
         {
          "EmployeeId": "6",
          "ReportsTo": "1"
         },
         {
          "EmployeeId": "3",
          "ReportsTo": "2"
         },
         {
          "EmployeeId": "4",
          "ReportsTo": "2"
         },
         {
          "EmployeeId": "5",
          "ReportsTo": "2"
         },
         {
          "EmployeeId": "7",
          "ReportsTo": "6"
         },
         {
          "EmployeeId": "8",
          "ReportsTo": "6"
         }
        ]
       },
       "encoding": {
        "x": {
         "axis": {
          "title": []
         },
         "field": "EmployeeId",
         "type": "quantitative"
        },
        "y": {
         "field": "ReportsTo",
         "type": "ordinal"
        }
       },
       "height": 200,
       "mark": {
        "color": "green",
        "type": "bar"
       },
       "width": 200
      },
      "image/png": "[encoded data removed]"
     },
     "execution_count": 4,
     "metadata": {},
     "output_type": "execute_result"
    }
   ],
   "source": [
    "%XVEGA_PLOT X_FIELD EmployeeId Y_FIELD ReportsTo TYPE ordinal MARK bar COLOR green WIDTH 200 HEIGHT 200 <> SELECT EmployeeId, ReportsTo FROM employees"
   ]
  },
  {
   "cell_type": "code",
   "execution_count": 12,
   "metadata": {},
   "outputs": [
    {
     "data": {
      "text/html": [
       "<table>\n",
       "<tr>\n",
       "<th>Name</th>\n",
       "<th>ArtistId</th>\n",
       "</tr>\n",
       "<tr>\n",
       "<td>AC/DC</td>\n",
       "<td>1</td>\n",
       "</tr>\n",
       "<tr>\n",
       "<td>Accept</td>\n",
       "<td>2</td>\n",
       "</tr>\n",
       "<tr>\n",
       "<td>Aerosmith</td>\n",
       "<td>3</td>\n",
       "</tr>\n",
       "<tr>\n",
       "<td>Alanis Morissette</td>\n",
       "<td>4</td>\n",
       "</tr>\n",
       "<tr>\n",
       "<td>Alice In Chains</td>\n",
       "<td>5</td>\n",
       "</tr>\n",
       "<tr>\n",
       "<td>Antônio Carlos Jobim</td>\n",
       "<td>6</td>\n",
       "</tr>\n",
       "<tr>\n",
       "<td>Apocalyptica</td>\n",
       "<td>7</td>\n",
       "</tr>\n",
       "<tr>\n",
       "<td>Audioslave</td>\n",
       "<td>8</td>\n",
       "</tr>\n",
       "<tr>\n",
       "<td>BackBeat</td>\n",
       "<td>9</td>\n",
       "</tr>\n",
       "<tr>\n",
       "<td>Billy Cobham</td>\n",
       "<td>10</td>\n",
       "</tr>\n",
       "</table>"
      ],
      "text/plain": [
       "+-----------------------+----------+\n",
       "| Name                  | ArtistId |\n",
       "+-----------------------+----------+\n",
       "| AC/DC                 | 1        |\n",
       "+-----------------------+----------+\n",
       "| Accept                | 2        |\n",
       "+-----------------------+----------+\n",
       "| Aerosmith             | 3        |\n",
       "+-----------------------+----------+\n",
       "| Alanis Morissette     | 4        |\n",
       "+-----------------------+----------+\n",
       "| Alice In Chains       | 5        |\n",
       "+-----------------------+----------+\n",
       "| Antônio Carlos Jobim | 6        |\n",
       "+-----------------------+----------+\n",
       "| Apocalyptica          | 7        |\n",
       "+-----------------------+----------+\n",
       "| Audioslave            | 8        |\n",
       "+-----------------------+----------+\n",
       "| BackBeat              | 9        |\n",
       "+-----------------------+----------+\n",
       "| Billy Cobham          | 10       |\n",
       "+-----------------------+----------+"
      ]
     },
     "execution_count": 12,
     "metadata": {},
     "output_type": "execute_result"
    },
    {
     "data": {
      "application/vnd.vegalite.v3+json": {
       "$schema": "https://vega.github.io/schema/vega-lite/v4.json",
       "config": {
        "axis": {
         "grid": true
        }
       },
       "data": {
        "values": [
         {
          "ArtistId": "name",
          "Name": "name"
         },
         {
          "ArtistId": "1",
          "Name": "AC/DC"
         },
         {
          "ArtistId": "2",
          "Name": "Accept"
         },
         {
          "ArtistId": "3",
          "Name": "Aerosmith"
         },
         {
          "ArtistId": "4",
          "Name": "Alanis Morissette"
         },
         {
          "ArtistId": "5",
          "Name": "Alice In Chains"
         },
         {
          "ArtistId": "6",
          "Name": "Antônio Carlos Jobim"
         },
         {
          "ArtistId": "7",
          "Name": "Apocalyptica"
         },
         {
          "ArtistId": "8",
          "Name": "Audioslave"
         },
         {
          "ArtistId": "9",
          "Name": "BackBeat"
         },
         {
          "ArtistId": "10",
          "Name": "Billy Cobham"
         }
        ]
       },
       "encoding": {
        "x": {
         "axis": {
          "title": []
         },
         "field": "Name",
         "type": "nominal"
        },
        "y": {
         "field": "ArtistId",
         "type": "quantitative"
        }
       },
       "height": 200,
       "mark": {
        "color": "purple",
        "type": "line"
       },
       "width": 200
      },
      "image/png": "[encoded data removed]"
     },
     "execution_count": 12,
     "metadata": {},
     "output_type": "execute_result"
    }
   ],
   "source": [
    "%XVEGA_PLOT X_FIELD Name TYPE nominal Y_FIELD ArtistId MARK line COLOR purple WIDTH 200 HEIGHT 200 <> SELECT Name, ArtistId FROM artists LIMIT 10"
   ]
  },
  {
   "cell_type": "code",
   "execution_count": 22,
   "metadata": {},
   "outputs": [
    {
     "data": {
      "text/html": [
       "<table>\n",
       "<tr>\n",
       "<th>EmployeeId</th>\n",
       "<th>ReportsTo</th>\n",
       "</tr>\n",
       "<tr>\n",
       "<td>1</td>\n",
       "<td></td>\n",
       "</tr>\n",
       "<tr>\n",
       "<td>2</td>\n",
       "<td>1</td>\n",
       "</tr>\n",
       "<tr>\n",
       "<td>6</td>\n",
       "<td>1</td>\n",
       "</tr>\n",
       "<tr>\n",
       "<td>3</td>\n",
       "<td>2</td>\n",
       "</tr>\n",
       "<tr>\n",
       "<td>4</td>\n",
       "<td>2</td>\n",
       "</tr>\n",
       "<tr>\n",
       "<td>5</td>\n",
       "<td>2</td>\n",
       "</tr>\n",
       "<tr>\n",
       "<td>7</td>\n",
       "<td>6</td>\n",
       "</tr>\n",
       "<tr>\n",
       "<td>8</td>\n",
       "<td>6</td>\n",
       "</tr>\n",
       "</table>"
      ],
      "text/plain": [
       "+------------+-----------+\n",
       "| EmployeeId | ReportsTo |\n",
       "+------------+-----------+\n",
       "| 1          |           |\n",
       "+------------+-----------+\n",
       "| 2          | 1         |\n",
       "+------------+-----------+\n",
       "| 6          | 1         |\n",
       "+------------+-----------+\n",
       "| 3          | 2         |\n",
       "+------------+-----------+\n",
       "| 4          | 2         |\n",
       "+------------+-----------+\n",
       "| 5          | 2         |\n",
       "+------------+-----------+\n",
       "| 7          | 6         |\n",
       "+------------+-----------+\n",
       "| 8          | 6         |\n",
       "+------------+-----------+"
      ]
     },
     "execution_count": 22,
     "metadata": {},
     "output_type": "execute_result"
    },
    {
     "data": {
      "application/vnd.vegalite.v3+json": {
       "$schema": "https://vega.github.io/schema/vega-lite/v4.json",
       "config": {
        "axis": {
         "grid": false
        }
       },
       "data": {
        "values": [
         {
          "EmployeeId": "name",
          "ReportsTo": "name"
         },
         {
          "EmployeeId": "1",
          "ReportsTo": ""
         },
         {
          "EmployeeId": "2",
          "ReportsTo": "1"
         },
         {
          "EmployeeId": "6",
          "ReportsTo": "1"
         },
         {
          "EmployeeId": "3",
          "ReportsTo": "2"
         },
         {
          "EmployeeId": "4",
          "ReportsTo": "2"
         },
         {
          "EmployeeId": "5",
          "ReportsTo": "2"
         },
         {
          "EmployeeId": "7",
          "ReportsTo": "6"
         },
         {
          "EmployeeId": "8",
          "ReportsTo": "6"
         }
        ]
       },
       "encoding": {
        "x": {
         "axis": {
          "title": []
         },
         "field": "EmployeeId",
         "type": "quantitative"
        },
        "y": {
         "field": "ReportsTo",
         "type": "quantitative"
        }
       },
       "height": 200,
       "mark": {
        "color": "pink",
        "type": "area"
       },
       "width": 200
      },
      "image/png": "[encoded data removed]"
     },
     "execution_count": 22,
     "metadata": {},
     "output_type": "execute_result"
    }
   ],
   "source": [
    "%XVEGA_PLOT X_FIELD EmployeeId GRID false Y_FIELD ReportsTo MARK area COLOR pink WIDTH 200 HEIGHT 200 <> SELECT EmployeeId, ReportsTo FROM employees"
   ]
  },
  {
   "cell_type": "code",
   "execution_count": null,
   "metadata": {},
   "outputs": [],
   "source": []
  }
 ],
 "metadata": {
  "kernelspec": {
   "display_name": "xsqlite",
   "language": "sqlite",
   "name": "xsqlite"
  },
  "language_info": {
   "codemirror_mode": "sql",
   "file_extension": "",
   "mimetype": "",
   "name": "sqlite3",
   "version": "3.33.0"
  }
 },
 "nbformat": 4,
 "nbformat_minor": 4
}
